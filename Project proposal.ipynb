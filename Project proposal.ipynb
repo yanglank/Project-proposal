{
 "cells": [
  {
   "cell_type": "markdown",
   "id": "bede5074",
   "metadata": {},
   "source": [
    "## research problem"
   ]
  },
  {
   "cell_type": "markdown",
   "id": "a5915609",
   "metadata": {},
   "source": [
    "Do **age** and **body mass index (BMI)** significantly influence the risk of **cardiovascular disease** in health survey data? Specifically, we want to test whether age and BMI can be used to predict a person's probability of developing cardiovascular disease. This will help us understand whether age and BMI are significant predictors of CVD in the study data.\n"
   ]
  },
  {
   "cell_type": "markdown",
   "id": "d890bd20",
   "metadata": {},
   "source": [
    "## Variable Description"
   ]
  },
  {
   "cell_type": "markdown",
   "id": "a6b7ff5e",
   "metadata": {},
   "source": [
    "1. **Age**: Age is an underlying characteristic of participants and is a continuous variable. We hypothesize that older age may be associated with a higher risk of CVD. We will first demonstrate the distribution of age through histograms and compare means between the CVD risk and no-risk groups, and further assess the significance of differences in age using **two-sample t-tests**.\n",
    "   \n",
    "2. **Body Mass Index (BMI)**: BMI is a measure of weight relative to height and is used to assess whether one is within a healthy weight range.BMI is also a continuous variable and we hypothesize that higher BMI may increase the risk of cardiovascular disease.The distribution of BMI will be demonstrated by a box-and-line plot and we will perform a comparison of means between the risk group and no-risk group and further use the** two-sample t-test** to assess the significance of the BMI differences.\n",
    "\n",
    "3. **Cardiovascular Disease Risk**: This is our dependent variable that indicates whether a person is at risk of cardiovascular disease (1 means at risk, 0 means not at risk). We will use this variable as a basis for grouping for statistical tests for age and BMI.\n"
   ]
  },
  {
   "cell_type": "markdown",
   "id": "f9f0f6dc",
   "metadata": {},
   "source": [
    "## Methods of analysis"
   ]
  },
  {
   "cell_type": "markdown",
   "id": "b26da62f",
   "metadata": {},
   "source": [
    "In order to assess the significant effect of age and BMI on the risk of cardiovascular disease, we will follow the following steps for hypothesis testing:\n",
    "\n",
    "1. **Test of t-test for age**\n",
    "   - **Purpose of the study**: to compare the mean age between the CVD risk group (at risk) and the no-risk group to determine if age significantly affects CVD risk.\n",
    "   - **Hypothesis Definition**:\n",
    "     - **Null Hypothesis (H₀)**: the mean age is the same in the CVD risk group and the no-risk group, i.e., age has no significant effect on CVD risk.\n",
    "     - **Alternative hypothesis (H₁)**: the mean age of the CVD risk group is significantly higher than that of the no-risk group, suggesting that age may have a positive effect on CVD risk.\n",
    "   - **Statistical test**: we will use a two-sample t-test to compare the mean age of the two groups.\n",
    "   - **Decision Criteria**: the significance level is set at 0.05. If the p-value of the t-test is less than 0.05, we will reject the null hypothesis that age has a significant effect on CVD risk.\n",
    "   \n",
    "\n",
    "2. **t-test for BMI**\n",
    "   - **Purpose of the study**: to compare the mean BMI between the CVD risk group and the no-risk group to determine if BMI significantly affects CVD risk.\n",
    "   - **Hypothesis Definition**:\n",
    "     - **Null Hypothesis (H₀)**: the mean BMI is the same between the CVD risk and no-risk groups, i.e., BMI does not significantly affect CVD risk.\n",
    "     - **Alternative hypothesis (H₁)**: the mean BMI of the CVD risk group is significantly higher than that of the no-risk group, suggesting that BMI may have a positive effect on CVD risk.\n",
    "   - **Statistical test**: we will use a two-sample t-test to compare the mean BMI of the two groups.\n",
    "   - **Decision Criteria**: the significance level is set at 0.05. If the p-value of the t-test is less than 0.05, we will reject the null hypothesis and conclude that BMI has a significant effect on CVD risk.\n",
    "   \n",
    "\n",
    "3. **Interpretation of results**:\n",
    "   - If the p-value is less than 0.05, we will consider age or BMI to have a statistically significant effect on CVD risk. If the p-value for both variables is less than 0.05, we will indicate that the joint prediction of CVD risk by these two variables is statistically significant.\n",
    "   - If the p-value for either variable is greater than 0.05, it indicates that the variable does not have a significant effect on CVD risk and we will not consider it a significant predictor.\n"
   ]
  },
  {
   "cell_type": "markdown",
   "id": "9c9d4d53",
   "metadata": {},
   "source": [
    "## Data Visualization"
   ]
  },
  {
   "cell_type": "markdown",
   "id": "a90eda04",
   "metadata": {},
   "source": [
    "In order to get a better visualization of the data distribution and differences between groups, we will use the following visualization methods:\n",
    "\n",
    "1. **Age histogram**: to show the distribution of age in the overall data set.\n",
    "2. **BMI Box-Line Chart**: to visualize the difference in BMI distribution between the CVD risk and no-risk groups.\n",
    "3. **Subgroup Bar Chart**: to demonstrate the difference in mean age and BMI between the CVD risk and no-risk groups."
   ]
  },
  {
   "cell_type": "markdown",
   "id": "b0ecd47a",
   "metadata": {},
   "source": [
    "## Hypotheses and expected results\n"
   ]
  },
  {
   "cell_type": "markdown",
   "id": "d12faccd",
   "metadata": {},
   "source": [
    "We hypothesized that **both age and BMI have a positive effect on CVD risk**. Therefore, it is expected that the CVD risk group will have a significantly higher mean age and BMI than the no-risk group. Specifically:\n",
    "- If the results of the analyses support our hypothesis (i.e., the p-values are all less than 0.05), this would indicate that age and BMI are significant predictors of CVD risk.\n",
    "- This will also help us to answer the research question that age and BMI can significantly predict CVD risk and thus guide health interventions for these high-risk individuals."
   ]
  }
 ],
 "metadata": {
  "kernelspec": {
   "display_name": "Python 3 (ipykernel)",
   "language": "python",
   "name": "python3"
  },
  "language_info": {
   "codemirror_mode": {
    "name": "ipython",
    "version": 3
   },
   "file_extension": ".py",
   "mimetype": "text/x-python",
   "name": "python",
   "nbconvert_exporter": "python",
   "pygments_lexer": "ipython3",
   "version": "3.11.6"
  }
 },
 "nbformat": 4,
 "nbformat_minor": 5
}
