{
 "cells": [
  {
   "cell_type": "markdown",
   "id": "bede5074",
   "metadata": {},
   "source": [
    "## research problem"
   ]
  },
  {
   "cell_type": "markdown",
   "id": "a5915609",
   "metadata": {},
   "source": [
    "The purpose of this study is to examine whether specific types of socialization activities significantly influence **emotional loneliness**. We will test whether **face-to-face interaction**, **volunteering** and **family socialization hours** predict changes in **emotional loneliness**. This will help us understand which social activities are more important in alleviating loneliness."
   ]
  },
  {
   "cell_type": "markdown",
   "id": "d890bd20",
   "metadata": {},
   "source": [
    "## Variable Description"
   ]
  },
  {
   "cell_type": "markdown",
   "id": "a6b7ff5e",
   "metadata": {},
   "source": [
    "1. **Frequency of face-to-face interactions** (`CONNECTION_activities_chat_p3m`)  \n",
    "   Face-to-face interaction was a common socialization activity for participants and was included in the study as a continuous variable. We hypothesize that higher frequency of face-to-face interactions will help reduce emotional loneliness. We will demonstrate the distribution of emotional loneliness at different frequencies through box-and-line plots and assess the significance of the difference between the high-frequency and low-frequency communication groups using a two-sample t-test.\n",
    "\n",
    "2. **Frequency of volunteering** (`CONNECTION_activities_community_p3m`)  \n",
    "   Volunteering is an activity that builds social connections by helping others. We hypothesize that higher volunteering frequency will be associated with lower loneliness. Differences in emotional loneliness across volunteer frequency groups were demonstrated by grouping histograms and further two-sample t-tests were conducted to determine significance.\n",
    "\n",
    "3. **Family social time** (`CONNECTION_social_time_family_p7d_grouped`)  \n",
    "   Family socialization is an important source of emotional support and its increase is expected to significantly alleviate loneliness. We will demonstrate the relationship between family socialization hours and emotional loneliness through scatterplots and conduct correlation tests to explore the significant relationship.\n",
    "\n",
    "4. **Indicator of emotional loneliness** (`LONELY_dejong_emotional_social_loneliness_scale_emptiness`)  \n",
    "   This is our dependent variable for the scale of emotional loneliness. This variable is used to compare differences in loneliness across groups such as high-frequency communication, volunteering, and family socialization."
   ]
  },
  {
   "cell_type": "markdown",
   "id": "f9f0f6dc",
   "metadata": {},
   "source": [
    "## Methods of analysis"
   ]
  },
  {
   "cell_type": "markdown",
   "id": "b26da62f",
   "metadata": {},
   "source": [
    "In order to assess the effect of different socialization activities on emotional loneliness, the following hypothesis tests will be conducted:\n",
    "\n",
    "### Face-to-face communication t-test\n",
    "\n",
    "- **Purpose of the study**: to compare the average loneliness of the high-frequency communication group with the low-frequency communication group to determine if face-to-face communication significantly affects emotional loneliness.\n",
    "- **Hypothesis Definition**:\n",
    "  - **Null Hypothesis (H₀)**: the high-frequency and low-frequency face-to-face communication groups have the same mean emotional loneliness, and face-to-face communication does not significantly affect loneliness.\n",
    "  - **Alternative hypothesis (H₁)**: the mean loneliness of the high-frequency group is significantly lower than that of the low-frequency group, indicating that face-to-face communication has a significant effect on loneliness.\n",
    "- **Statistical test**: a two-sample t-test was used to compare the mean loneliness of the two groups.\n",
    "- **Decision Criteria**: The significance level is set at 0.05. If the p-value is less than 0.05, the null hypothesis is rejected and it is concluded that face-to-face communication has a significant effect on emotional loneliness.\n",
    "\n",
    "### Volunteering t-test\n",
    "\n",
    "- **Purpose of the study**: to compare emotional loneliness between high-frequency and low-frequency volunteering groups and to assess the impact of volunteering.\n",
    "- **Hypotheses Definition**:\n",
    "  - **Null Hypothesis (H₀)**: there is no significant difference in emotional loneliness between high-frequency and low-frequency volunteering groups.\n",
    "  - **Alternative hypothesis (H₁)**: the emotional loneliness of the high-frequency volunteering group is significantly lower than that of the low-frequency group, suggesting a positive role of volunteering in alleviating loneliness.\n",
    "- **Statistical test**: a two-sample t-test was used to compare the mean loneliness of the two groups.\n",
    "- **Decision criteria**: Set the significance level at 0.05. If the p-value is less than 0.05, the null hypothesis is rejected, and it is concluded that volunteering has a significant effect on emotional loneliness.\n",
    "\n",
    "### Family socialization hours correlation test\n",
    "\n",
    "- **Purpose of the study**: to explore the correlation between family socialization hours and emotional loneliness.\n",
    "- **Hypothesis Definition**:\n",
    "  - **Null Hypothesis (H₀)**: there is no significant correlation between family socialization hours and emotional loneliness.\n",
    "  - **Alternative hypothesis (H₁)**: there is a significant negative correlation, i.e., the longer the socialization hours, the lower the emotional loneliness.\n",
    "- **Statistical Test**: The relationship between family socialization hours and emotional loneliness was analyzed using Pearson or Spearman correlation coefficients.\n",
    "- **Decision Criteria**: The significance level is 0.05. If the p-value is less than 0.05, the null hypothesis is rejected and family socialization hours are considered to have a significant effect on emotional loneliness."
   ]
  },
  {
   "cell_type": "markdown",
   "id": "9c9d4d53",
   "metadata": {},
   "source": [
    "## Data Visualization"
   ]
  },
  {
   "cell_type": "markdown",
   "id": "a90eda04",
   "metadata": {},
   "source": [
    "In order to show the data distribution and differences between groups more visually, we will use the following visualization methods:\n",
    "\n",
    "- **Face-to-face communication box-and-line graph**: to show the distribution of emotional loneliness in different communication frequency groups.\n",
    "- **Volunteering subgroup histogram**: to show the difference in emotional loneliness between high-frequency and low-frequency volunteering groups.\n",
    "- **Scatterplot of family socialization hours**: to demonstrate the relationship between family socialization hours and emotional loneliness."
   ]
  },
  {
   "cell_type": "markdown",
   "id": "b0ecd47a",
   "metadata": {},
   "source": [
    "## Hypotheses and expected results\n"
   ]
  },
  {
   "cell_type": "markdown",
   "id": "d12faccd",
   "metadata": {},
   "source": [
    "We hypothesize that **face-to-face interaction**, **volunteering** and **family socialization hours** all have a positive effect on emotional loneliness, thus:\n",
    "\n",
    "- If the p-value of all the test results is less than 0.05, it means that these variables are significant predictors of emotional loneliness.\n",
    "- If the p-value of any variable is greater than 0.05, it indicates that the variable has no significant effect on emotional loneliness and is not a key predictor."
   ]
  }
 ],
 "metadata": {
  "kernelspec": {
   "display_name": "Python 3 (ipykernel)",
   "language": "python",
   "name": "python3"
  },
  "language_info": {
   "codemirror_mode": {
    "name": "ipython",
    "version": 3
   },
   "file_extension": ".py",
   "mimetype": "text/x-python",
   "name": "python",
   "nbconvert_exporter": "python",
   "pygments_lexer": "ipython3",
   "version": "3.11.6"
  }
 },
 "nbformat": 4,
 "nbformat_minor": 5
}
